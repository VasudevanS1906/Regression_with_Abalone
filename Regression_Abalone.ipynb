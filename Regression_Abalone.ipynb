{
  "nbformat": 4,
  "nbformat_minor": 0,
  "metadata": {
    "colab": {
      "provenance": [],
      "mount_file_id": "1xuNiHSah8KqvzbhJef7MOgNIIbUSZGSl",
      "authorship_tag": "ABX9TyPo5LoO8fRGALkFseqGdWtW"
    },
    "kernelspec": {
      "name": "python3",
      "display_name": "Python 3"
    },
    "language_info": {
      "name": "python"
    }
  },
  "cells": [
    {
      "cell_type": "code",
      "source": [
        "import pandas as pd\n",
        "\n",
        "# Load the data from the CSV file\n",
        "data = pd.read_csv('/content/drive/MyDrive/train.csv')\n",
        "\n",
        "# Remove the 'Sex' column from the feature matrix\n",
        "X = data.drop(['Rings', 'Sex'], axis=1)\n",
        "y = data['Rings']\n",
        "\n",
        "from sklearn.model_selection import train_test_split\n",
        "\n",
        "# Split the data into training and validation sets\n",
        "X_train, X_val, y_train, y_val = train_test_split(X, y, test_size=0.2, random_state=42)\n",
        "\n",
        "from sklearn.linear_model import PoissonRegressor\n",
        "\n",
        "model = PoissonRegressor()\n",
        "\n",
        "# Train the model\n",
        "model.fit(X_train, y_train)\n",
        "\n",
        "# Make predictions on the validation set\n",
        "y_pred = model.predict(X_val)\n",
        "\n",
        "\n",
        "\n",
        "\n"
      ],
      "metadata": {
        "id": "xJhlVHa2gprA",
        "colab": {
          "base_uri": "https://localhost:8080/"
        },
        "outputId": "67a9c3cc-bdef-45ed-d07f-5bbe15aae50c"
      },
      "execution_count": null,
      "outputs": [
        {
          "output_type": "stream",
          "name": "stderr",
          "text": [
            "/usr/local/lib/python3.10/dist-packages/sklearn/linear_model/_glm/glm.py:284: ConvergenceWarning: lbfgs failed to converge (status=1):\n",
            "STOP: TOTAL NO. of ITERATIONS REACHED LIMIT.\n",
            "\n",
            "Increase the number of iterations (max_iter) or scale the data as shown in:\n",
            "    https://scikit-learn.org/stable/modules/preprocessing.html\n",
            "  self.n_iter_ = _check_optimize_result(\"lbfgs\", opt_res)\n"
          ]
        }
      ]
    },
    {
      "cell_type": "code",
      "source": [
        "test_data = pd.read_csv('/content/drive/MyDrive/test.csv')\n",
        "# Remove the 'Sex' column from the test data\n",
        "X_test = test_data.drop('Sex', axis=1)"
      ],
      "metadata": {
        "id": "W8i-ti-AiDTa"
      },
      "execution_count": null,
      "outputs": []
    },
    {
      "cell_type": "code",
      "source": [
        "import os\n",
        "y_pred_test = model.predict(X_test)\n",
        "# Create a submission DataFrame\n",
        "#submission = pd.DataFrame({'Rings': y_pred_test.astype(int)})\n",
        "submission = pd.DataFrame({'id': test_data['id'],'Rings': y_pred_test.astype(int)})\n",
        "\n",
        "# Get the current working directory\n",
        "current_dir = os.getcwd()\n",
        "\n",
        "# Construct the file path for the submission file\n",
        "submission_file_path = os.path.join(current_dir, 'd_submission.csv')\n",
        "# Save the submission DataFrame to a CSV file\n",
        "submission.to_csv('/content/drive/MyDrive/d_submission.csv', index=False, header=True)"
      ],
      "metadata": {
        "id": "BTsR-5KFiH-1"
      },
      "execution_count": null,
      "outputs": []
    }
  ]
}